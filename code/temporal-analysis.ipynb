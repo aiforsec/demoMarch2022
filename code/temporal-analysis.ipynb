{
 "cells": [
  {
   "cell_type": "code",
   "execution_count": 95,
   "id": "0dfb716f",
   "metadata": {},
   "outputs": [],
   "source": [
    "import os\n",
    "import matplotlib.pyplot as plt\n",
    "import numpy as np\n",
    "import matplotlib.dates as mdates\n",
    "from datetime import datetime"
   ]
  },
  {
   "cell_type": "code",
   "execution_count": 96,
   "id": "aae28638",
   "metadata": {},
   "outputs": [],
   "source": [
    "with open('sources.txt') as f:\n",
    "    text = f.read().split('\\n')\n",
    "\n",
    "times = {}\n",
    "for line in text:\n",
    "    tokens = line.split(' ')\n",
    "    t = ' '.join(tokens[2:])\n",
    "    times[tokens[0]] = t"
   ]
  },
  {
   "cell_type": "code",
   "execution_count": 97,
   "id": "ae918403",
   "metadata": {},
   "outputs": [
    {
     "data": {
      "text/plain": [
       "{'1': '2021-11-01',\n",
       " '2': '2021-03-16',\n",
       " '3': '2021-04-27',\n",
       " '4': '2021-04-26',\n",
       " '5': '2021-04-29',\n",
       " '6': '2021-05-05',\n",
       " '7': '2021-03-05',\n",
       " '8': '2021-08-17',\n",
       " '9': '2021-05-13',\n",
       " '10': '2021-06-01',\n",
       " '11': '2021-06-19',\n",
       " '12': '2021-09-14',\n",
       " '13': '2021-10-01',\n",
       " '14': '2022-02-01',\n",
       " '15': '2022-01-26',\n",
       " '16': '2021-05-01',\n",
       " '17': '2022-02-21',\n",
       " '18': '2021-03-01'}"
      ]
     },
     "execution_count": 97,
     "metadata": {},
     "output_type": "execute_result"
    }
   ],
   "source": [
    "times"
   ]
  },
  {
   "cell_type": "code",
   "execution_count": 98,
   "id": "2d7af845",
   "metadata": {},
   "outputs": [],
   "source": [
    "time_order = [7, 2, 4, 3, 5, 6, 9, 16, 10, 11, 8, 12, 13, 1, 15, 14]"
   ]
  },
  {
   "cell_type": "code",
   "execution_count": 99,
   "id": "cc8e4b6f",
   "metadata": {},
   "outputs": [
    {
     "data": {
      "text/plain": [
       "(18, 16)"
      ]
     },
     "execution_count": 99,
     "metadata": {},
     "output_type": "execute_result"
    }
   ],
   "source": [
    "len(times), len(time_order)"
   ]
  },
  {
   "cell_type": "code",
   "execution_count": 100,
   "id": "3154e15b",
   "metadata": {},
   "outputs": [],
   "source": [
    "def capitalize(text):\n",
    "    if text in ['US', 'USA', 'U. S']:\n",
    "        return 'U.S.'\n",
    "    if text in ['UK', 'United Kingdom']:\n",
    "        return 'U.K.'\n",
    "    if text in ['Spanish']:\n",
    "        return 'Spain'\n",
    "    if text in ['Dutch']:\n",
    "        return 'Netherland'\n",
    "    if text in ['German']:\n",
    "        return 'Germany'\n",
    "    if text in ['Polish']:\n",
    "        return 'Poland'\n",
    "    if text.lower() in ['european']:\n",
    "        return 'Europe'\n",
    "    if 'google play' in text.lower():\n",
    "        return 'Google Play'\n",
    "    if '.' in text:\n",
    "        return text\n",
    "    return text.capitalize()"
   ]
  },
  {
   "cell_type": "markdown",
   "id": "e625a1e0",
   "metadata": {},
   "source": [
    "### location targetted by time"
   ]
  },
  {
   "cell_type": "code",
   "execution_count": 101,
   "id": "13122379",
   "metadata": {},
   "outputs": [],
   "source": [
    "data = []\n",
    "uniq = set()\n",
    "\n",
    "for t in time_order:\n",
    "    fname = 'data/' + str(t) + '-coref-resolved.ann'\n",
    "    \n",
    "    with open(fname, 'r', encoding='utf-8') as f:\n",
    "        ann = f.read()\n",
    "    \n",
    "    report_time = times[str(t)]\n",
    "    if ',' in report_time:\n",
    "        report_time = report_time.split(',')[0].split(' ')[0] + report_time.split(',')[1]\n",
    "    \n",
    "    entities = {}\n",
    "    for line in ann.split('\\n'):\n",
    "        if len(line) > 0 and line[0] == 'T':\n",
    "            e_id, desc, e_text = line.split('\\t')\n",
    "            cls = desc.split()[0]\n",
    "            entities[e_id] = cls, e_text\n",
    "            \n",
    "    \n",
    "    for line in ann.split('\\n'):\n",
    "        if len(line) > 0 and line[0] == 'R':\n",
    "            _, desc, _ = line.split('\\t')\n",
    "            rel_type = desc.split(' ')[0]\n",
    "            e1_id = desc.split(' ')[1].split(':')[1]\n",
    "            e2_id = desc.split(' ')[2].split(':')[1]\n",
    "            \n",
    "            e1_cls, e1_text = entities[e1_id]\n",
    "            e2_cls, e2_text = entities[e2_id]\n",
    "            e1_text = capitalize(e1_text)\n",
    "            e2_text = capitalize(e2_text)\n",
    "            \n",
    "            if e1_text != 'Medusa' and e1_cls == 'Malware' and rel_type == 'targets' and e2_cls == 'Location':\n",
    "                if e2_text not in uniq:\n",
    "                    data.append([report_time, e2_text])\n",
    "                    uniq.add(e2_text)\n",
    "\n",
    "merged_data = []\n",
    "\n",
    "for d in data:\n",
    "    found = False\n",
    "    for item in merged_data:\n",
    "        if d[0] == item[0]:\n",
    "            found = True\n",
    "            item[1] += '\\n'+d[1]\n",
    "    if not found:\n",
    "        merged_data.append(d)"
   ]
  },
  {
   "cell_type": "code",
   "execution_count": 102,
   "id": "51c2d06a",
   "metadata": {},
   "outputs": [
    {
     "data": {
      "text/plain": [
       "[['2021-03-05', 'Spain'],\n",
       " ['2021-03-16', 'Poland'],\n",
       " ['2021-04-26',\n",
       "  'Germany\\nU.K.\\nJapan\\nItaly\\nNorway\\nSweden\\nFinland\\nDenmark\\nNetherlands'],\n",
       " ['2021-04-27', 'Europe\\nHungary\\nU.S.'],\n",
       " ['2021-05-01', 'Netherland'],\n",
       " ['2021-06-01', 'Ireland\\nGreece\\nArgentine\\nAustria\\nFrance'],\n",
       " ['2021-06-19', 'Switzerland'],\n",
       " ['2022-01-26', 'Australia']]"
      ]
     },
     "execution_count": 102,
     "metadata": {},
     "output_type": "execute_result"
    }
   ],
   "source": [
    "merged_data"
   ]
  },
  {
   "cell_type": "code",
   "execution_count": 103,
   "id": "0e229a5d",
   "metadata": {},
   "outputs": [],
   "source": [
    "names = [x[1] for x in merged_data]\n",
    "\n",
    "dates = [x[0] for x in merged_data]\n",
    "\n",
    "dates = [datetime.strptime(d, \"%Y-%m-%d\") for d in dates]"
   ]
  },
  {
   "cell_type": "code",
   "execution_count": 104,
   "id": "84781426",
   "metadata": {},
   "outputs": [
    {
     "data": {
      "image/png": "[encoded data removed]",
      "text/plain": [
       "<Figure size 864x576 with 1 Axes>"
      ]
     },
     "metadata": {
      "needs_background": "light"
     },
     "output_type": "display_data"
    }
   ],
   "source": [
    "# Choose some nice levels\n",
    "levels = np.tile([-5, 5, -3, 3, -1, 1],\n",
    "                 int(np.ceil(len(dates)/6)))[:len(dates)]\n",
    "\n",
    "# Create figure and plot a stem plot with the date\n",
    "fig, ax = plt.subplots(figsize=(12, 8), constrained_layout=True)\n",
    "ax.set(title=\"Targetted countries\")\n",
    "\n",
    "ax.vlines(dates, 0, levels, color=\"tab:red\")  # The vertical stems.\n",
    "ax.plot(dates, np.zeros_like(dates), \"-o\",\n",
    "        color=\"k\", markerfacecolor=\"w\")  # Baseline and markers on it.\n",
    "\n",
    "# annotate lines\n",
    "for d, l, r in zip(dates, levels, names):\n",
    "    ax.annotate(r, xy=(d, l),\n",
    "                xytext=(-3, np.sign(l)*3), textcoords=\"offset points\",\n",
    "                horizontalalignment=\"right\",\n",
    "                verticalalignment=\"bottom\" if l > 0 else \"top\")\n",
    "\n",
    "# format xaxis with 2 month intervals\n",
    "ax.xaxis.set_major_locator(mdates.MonthLocator(interval=2))\n",
    "ax.xaxis.set_major_formatter(mdates.DateFormatter(\"%b %Y\"))\n",
    "plt.setp(ax.get_xticklabels(), rotation=30, ha=\"right\")\n",
    "\n",
    "# remove y axis and spines\n",
    "ax.yaxis.set_visible(False)\n",
    "ax.spines[[\"left\", \"top\", \"right\"]].set_visible(False)\n",
    "\n",
    "ax.margins(y=0.1)\n",
    "plt.show()"
   ]
  },
  {
   "cell_type": "markdown",
   "id": "2ccc28ba",
   "metadata": {},
   "source": [
    "### Organizations targetted over time\n"
   ]
  },
  {
   "cell_type": "code",
   "execution_count": 105,
   "id": "31db1c87",
   "metadata": {},
   "outputs": [
    {
     "name": "stdout",
     "output_type": "stream",
     "text": [
      "16 T52 UPS\n",
      "8 T7 Australian banks\n",
      "8 T4 Polish\n",
      "8 T5 German banks\n",
      "12 T30 Deutsche Telekom’\n",
      "12 T67 DHL\n",
      "12 T71 FedEx\n",
      "12 T72 Correos\n",
      "13 T81 German\n"
     ]
    }
   ],
   "source": [
    "\n",
    "data = []\n",
    "uniq = set()\n",
    "\n",
    "for t in time_order:\n",
    "    fname = 'data/' + str(t) + '-coref-resolved.ann'\n",
    "    \n",
    "    with open(fname, 'r', encoding='utf-8') as f:\n",
    "        ann = f.read()\n",
    "    \n",
    "    report_time = times[str(t)]\n",
    "    if ',' in report_time:\n",
    "        report_time = report_time.split(',')[0].split(' ')[0] + report_time.split(',')[1]\n",
    "    \n",
    "    entities = {}\n",
    "    for line in ann.split('\\n'):\n",
    "        if len(line) > 0 and line[0] == 'T':\n",
    "            e_id, desc, e_text = line.split('\\t')\n",
    "            cls = desc.split()[0]\n",
    "            entities[e_id] = cls, e_text\n",
    "            \n",
    "    \n",
    "    for line in ann.split('\\n'):\n",
    "        if len(line) > 0 and line[0] == 'R':\n",
    "            _, desc, _ = line.split('\\t')\n",
    "            rel_type = desc.split(' ')[0]\n",
    "            e1_id = desc.split(' ')[1].split(':')[1]\n",
    "            e2_id = desc.split(' ')[2].split(':')[1]\n",
    "            \n",
    "            e1_cls, e1_text = entities[e1_id]\n",
    "            e2_cls, e2_text = entities[e2_id]\n",
    "#             e1_text = capitalize(e1_text)\n",
    "#             e2_text = capitalize(e2_text)\n",
    "            \n",
    "            if e1_text != 'Medusa' and e1_cls == 'Malware' and rel_type == 'targets' and e2_cls == 'Organization':\n",
    "                if e2_text not in uniq:\n",
    "                    data.append([report_time, e2_text])\n",
    "                    uniq.add(e2_text)\n",
    "                    print(t, e2_id, e2_text)\n",
    "\n",
    "merged_data = []\n",
    "\n",
    "for d in data:\n",
    "    found = False\n",
    "    for item in merged_data:\n",
    "        if d[0] == item[0]:\n",
    "            found = True\n",
    "            item[1] += '\\n'+d[1]\n",
    "    if not found:\n",
    "        merged_data.append(d)"
   ]
  },
  {
   "cell_type": "code",
   "execution_count": 106,
   "id": "514e79f5",
   "metadata": {},
   "outputs": [
    {
     "data": {
      "text/plain": [
       "[['2021-05-01', 'UPS'],\n",
       " ['2021-08-17', 'Australian banks\\nPolish\\nGerman banks'],\n",
       " ['2021-08-17', 'Polish'],\n",
       " ['2021-08-17', 'German banks'],\n",
       " ['2021-09-14', 'Deutsche Telekom’\\nDHL\\nFedEx\\nCorreos'],\n",
       " ['2021-09-14', 'DHL'],\n",
       " ['2021-09-14', 'FedEx'],\n",
       " ['2021-09-14', 'Correos'],\n",
       " ['2021-10-01', 'German']]"
      ]
     },
     "execution_count": 106,
     "metadata": {},
     "output_type": "execute_result"
    }
   ],
   "source": [
    "data"
   ]
  },
  {
   "cell_type": "code",
   "execution_count": 107,
   "id": "01b231e1",
   "metadata": {},
   "outputs": [
    {
     "data": {
      "image/png": "[encoded data removed]",
      "text/plain": [
       "<Figure size 864x576 with 1 Axes>"
      ]
     },
     "metadata": {
      "needs_background": "light"
     },
     "output_type": "display_data"
    }
   ],
   "source": [
    "names = [x[1] for x in merged_data]\n",
    "\n",
    "dates = [x[0] for x in merged_data]\n",
    "\n",
    "dates = [datetime.strptime(d, \"%Y-%m-%d\") for d in dates]\n",
    "\n",
    "# Choose some nice levels\n",
    "levels = np.tile([-5, 5, -3, 3, -1, 1],\n",
    "                 int(np.ceil(len(dates)/6)))[:len(dates)]\n",
    "\n",
    "# Create figure and plot a stem plot with the date\n",
    "fig, ax = plt.subplots(figsize=(12, 8), constrained_layout=True)\n",
    "ax.set(title=\"Targetted organization\")\n",
    "\n",
    "ax.vlines(dates, 0, levels, color=\"tab:red\")  # The vertical stems.\n",
    "ax.plot(dates, np.zeros_like(dates), \"-o\",\n",
    "        color=\"k\", markerfacecolor=\"w\")  # Baseline and markers on it.\n",
    "\n",
    "# annotate lines\n",
    "for d, l, r in zip(dates, levels, names):\n",
    "    ax.annotate(r, xy=(d, l),\n",
    "                xytext=(-3, np.sign(l)*3), textcoords=\"offset points\",\n",
    "                horizontalalignment=\"right\",\n",
    "                verticalalignment=\"bottom\" if l > 0 else \"top\")\n",
    "\n",
    "# format xaxis with 2 month intervals\n",
    "ax.xaxis.set_major_locator(mdates.MonthLocator(interval=2))\n",
    "ax.xaxis.set_major_formatter(mdates.DateFormatter(\"%b %Y\"))\n",
    "plt.setp(ax.get_xticklabels(), rotation=30, ha=\"right\")\n",
    "\n",
    "# remove y axis and spines\n",
    "ax.yaxis.set_visible(False)\n",
    "ax.spines[[\"left\", \"top\", \"right\"]].set_visible(False)\n",
    "\n",
    "ax.margins(y=0.1)\n",
    "plt.show()"
   ]
  },
  {
   "cell_type": "markdown",
   "id": "406a0772",
   "metadata": {},
   "source": [
    "### Systems targetted over time\n"
   ]
  },
  {
   "cell_type": "code",
   "execution_count": 111,
   "id": "998db156",
   "metadata": {},
   "outputs": [],
   "source": [
    "data = []\n",
    "uniq = set()\n",
    "\n",
    "for t in time_order:\n",
    "    fname = 'data/' + str(t) + '-coref-resolved.ann'\n",
    "    \n",
    "    with open(fname, 'r', encoding='utf-8') as f:\n",
    "        ann = f.read()\n",
    "    \n",
    "    report_time = times[str(t)]\n",
    "    if ',' in report_time:\n",
    "        report_time = report_time.split(',')[0].split(' ')[0] + report_time.split(',')[1]\n",
    "    \n",
    "    entities = {}\n",
    "    for line in ann.split('\\n'):\n",
    "        if len(line) > 0 and line[0] == 'T':\n",
    "            e_id, desc, e_text = line.split('\\t')\n",
    "            cls = desc.split()[0]\n",
    "            entities[e_id] = cls, e_text\n",
    "            \n",
    "    \n",
    "    for line in ann.split('\\n'):\n",
    "        if len(line) > 0 and line[0] == 'R':\n",
    "            _, desc, _ = line.split('\\t')\n",
    "            rel_type = desc.split(' ')[0]\n",
    "            e1_id = desc.split(' ')[1].split(':')[1]\n",
    "            e2_id = desc.split(' ')[2].split(':')[1]\n",
    "            \n",
    "            e1_cls, e1_text = entities[e1_id]\n",
    "            e2_cls, e2_text = entities[e2_id]\n",
    "            e1_text = capitalize(e1_text)\n",
    "            e2_text = capitalize(e2_text)\n",
    "            \n",
    "            if e1_text != 'Medusa' and e1_cls == 'Malware' and rel_type == 'targets' and e2_cls == 'System':\n",
    "                if e2_text not in uniq:\n",
    "                    data.append([report_time, e2_text])\n",
    "                    uniq.add(e2_text)\n",
    "                    # print(t, e2_id, e2_text)\n",
    "\n",
    "merged_data = []\n",
    "\n",
    "for d in data:\n",
    "    found = False\n",
    "    for item in merged_data:\n",
    "        if d[0] == item[0]:\n",
    "            found = True\n",
    "            item[1] += '\\n'+d[1]\n",
    "    if not found:\n",
    "        merged_data.append(d)"
   ]
  },
  {
   "cell_type": "code",
   "execution_count": 112,
   "id": "6b9f3956",
   "metadata": {},
   "outputs": [],
   "source": [
    "# data"
   ]
  },
  {
   "cell_type": "code",
   "execution_count": 113,
   "id": "6d9f0040",
   "metadata": {},
   "outputs": [
    {
     "data": {
      "image/png": "[encoded data removed]",
      "text/plain": [
       "<Figure size 864x576 with 1 Axes>"
      ]
     },
     "metadata": {
      "needs_background": "light"
     },
     "output_type": "display_data"
    }
   ],
   "source": [
    "names = [x[1] for x in merged_data]\n",
    "\n",
    "dates = [x[0] for x in merged_data]\n",
    "\n",
    "dates = [datetime.strptime(d, \"%Y-%m-%d\") for d in dates]\n",
    "\n",
    "# Choose some nice levels\n",
    "levels = np.tile([-5, 5, -3, 3, -1, 1],\n",
    "                 int(np.ceil(len(dates)/6)))[:len(dates)]\n",
    "\n",
    "# Create figure and plot a stem plot with the date\n",
    "fig, ax = plt.subplots(figsize=(12, 8), constrained_layout=True)\n",
    "ax.set(title=\"Targetted System/apps\")\n",
    "\n",
    "ax.vlines(dates, 0, levels, color=\"tab:red\")  # The vertical stems.\n",
    "ax.plot(dates, np.zeros_like(dates), \"-o\",\n",
    "        color=\"k\", markerfacecolor=\"w\")  # Baseline and markers on it.\n",
    "\n",
    "# annotate lines\n",
    "for d, l, r in zip(dates, levels, names):\n",
    "    ax.annotate(r, xy=(d, l),\n",
    "                xytext=(-3, np.sign(l)*3), textcoords=\"offset points\",\n",
    "                horizontalalignment=\"right\",\n",
    "                verticalalignment=\"bottom\" if l > 0 else \"top\")\n",
    "\n",
    "# format xaxis with 2 month intervals\n",
    "ax.xaxis.set_major_locator(mdates.MonthLocator(interval=2))\n",
    "ax.xaxis.set_major_formatter(mdates.DateFormatter(\"%b %Y\"))\n",
    "plt.setp(ax.get_xticklabels(), rotation=30, ha=\"right\")\n",
    "\n",
    "# remove y axis and spines\n",
    "ax.yaxis.set_visible(False)\n",
    "ax.spines[[\"left\", \"top\", \"right\"]].set_visible(False)\n",
    "\n",
    "ax.margins(y=0.1)\n",
    "plt.show()"
   ]
  },
  {
   "cell_type": "code",
   "execution_count": 114,
   "id": "bf5f694f",
   "metadata": {},
   "outputs": [],
   "source": [
    "### attack patterns summarization"
   ]
  },
  {
   "cell_type": "code",
   "execution_count": 17,
   "id": "beb35221",
   "metadata": {},
   "outputs": [],
   "source": [
    "from summarizer import Summarizer"
   ]
  },
  {
   "cell_type": "code",
   "execution_count": 18,
   "id": "d76a3268",
   "metadata": {},
   "outputs": [
    {
     "name": "stderr",
     "output_type": "stream",
     "text": [
      "Some weights of the model checkpoint at bert-large-uncased were not used when initializing BertModel: ['cls.predictions.bias', 'cls.predictions.transform.dense.weight', 'cls.predictions.transform.LayerNorm.bias', 'cls.seq_relationship.bias', 'cls.predictions.transform.dense.bias', 'cls.seq_relationship.weight', 'cls.predictions.decoder.weight', 'cls.predictions.transform.LayerNorm.weight']\n",
      "- This IS expected if you are initializing BertModel from the checkpoint of a model trained on another task or with another architecture (e.g. initializing a BertForSequenceClassification model from a BertForPreTraining model).\n",
      "- This IS NOT expected if you are initializing BertModel from the checkpoint of a model that you expect to be exactly identical (initializing a BertForSequenceClassification model from a BertForSequenceClassification model).\n"
     ]
    }
   ],
   "source": [
    "model = Summarizer()"
   ]
  },
  {
   "cell_type": "markdown",
   "id": "b390f491",
   "metadata": {},
   "source": [
    "### Attack pattern summary over all documents"
   ]
  },
  {
   "cell_type": "code",
   "execution_count": 115,
   "id": "3a352ff3",
   "metadata": {},
   "outputs": [],
   "source": [
    "data = []\n",
    "uniq = {}\n",
    "\n",
    "for t in time_order:\n",
    "    fname = 'data/' + str(t) + '-coref-resolved.ann'\n",
    "    \n",
    "    with open(fname, 'r', encoding='utf-8') as f:\n",
    "        ann = f.read()\n",
    "    \n",
    "    report_time = times[str(t)]\n",
    "    if ',' in report_time:\n",
    "        report_time = report_time.split(',')[0].split(' ')[0] + report_time.split(',')[1]\n",
    "    \n",
    "    entities = {}\n",
    "    for line in ann.split('\\n'):\n",
    "        if len(line) > 0 and line[0] == 'T':\n",
    "            e_id, desc, e_text = line.split('\\t')\n",
    "            if e_text[-1] == '.':\n",
    "                e_text = e_text[:-1]\n",
    "            cls = desc.split()[0]\n",
    "            if cls == 'AttackPattern' and e_text not in uniq:\n",
    "                data.append([e_text, report_time])\n",
    "                uniq[e_text] = report_time"
   ]
  },
  {
   "cell_type": "code",
   "execution_count": 116,
   "id": "207c8679",
   "metadata": {},
   "outputs": [
    {
     "data": {
      "text/plain": [
       "415"
      ]
     },
     "execution_count": 116,
     "metadata": {},
     "output_type": "execute_result"
    }
   ],
   "source": [
    "len(data)"
   ]
  },
  {
   "cell_type": "code",
   "execution_count": 117,
   "id": "40089963",
   "metadata": {},
   "outputs": [],
   "source": [
    "body = '. '.join([x[0] for x in data])"
   ]
  },
  {
   "cell_type": "code",
   "execution_count": 118,
   "id": "d4ee4f20",
   "metadata": {},
   "outputs": [],
   "source": [
    "result = model(body, num_sentences=25)\n",
    "full = ''.join(result)"
   ]
  },
  {
   "cell_type": "code",
   "execution_count": 119,
   "id": "2aa285e9",
   "metadata": {},
   "outputs": [
    {
     "name": "stdout",
     "output_type": "stream",
     "text": [
      "steal the victim’s contact lists to enrich the malware gang’s SMS spam target list. worm-like mechanism inside its code that allows the malware’s operator to collect the victim’s address book. samples are packed with Tencent’s Legu Packer application. ( connects to the first one that resolves to an IP address and is not offline. captured the victim’s credit card information. uses the HTTP Using POST method on port 80 with POST body encrypted. steal all the necessary data to successfully defraud the user. grants itself all the other permissions it needs to conduct malicious activity without the victim’s knowledge and without the victim needing to accept further permission requests. presenting a fake overlay login screen on top of the legitimate app. disguise themselves by using the brand names of package delivery services. register as the default messaging app on the phone. using a custom packer and evasion mechanisms to complicate detection and analysis of the malware. spread most of their malware through sideloading. fake Ad Blocker app that acts as a dropper. ask permission to display over other applications. send out smishing URLs to further infect other mobile phones. uses a Domain Generation Algorithm ( DGA )-an algorithm embedded in the malware. download overlays for installed applications. convinces the target to install a third-party APK. circumventing carrier SMS content filters. spreading just starts with just one innocently looking SMS that a target receives. query the command and control ( CC ) server. keep out security researchers from the botnet. they flip one or more letters in their smishing SMS. sporting a dropper C2 backend to fully match the theme of the dropper app.\n"
     ]
    }
   ],
   "source": [
    "print(full)"
   ]
  },
  {
   "cell_type": "code",
   "execution_count": 120,
   "id": "69396f50",
   "metadata": {},
   "outputs": [],
   "source": [
    "from nltk.tokenize import sent_tokenize"
   ]
  },
  {
   "cell_type": "code",
   "execution_count": 121,
   "id": "1e101a44",
   "metadata": {},
   "outputs": [],
   "source": [
    "sents = sent_tokenize(full)"
   ]
  },
  {
   "cell_type": "code",
   "execution_count": 122,
   "id": "0c3589ad",
   "metadata": {},
   "outputs": [],
   "source": [
    "sents = [x[:-1] for x in sents]"
   ]
  },
  {
   "cell_type": "code",
   "execution_count": 123,
   "id": "dcc52ede",
   "metadata": {},
   "outputs": [
    {
     "data": {
      "text/plain": [
       "25"
      ]
     },
     "execution_count": 123,
     "metadata": {},
     "output_type": "execute_result"
    }
   ],
   "source": [
    "len(sents)"
   ]
  },
  {
   "cell_type": "code",
   "execution_count": 124,
   "id": "27d254c9",
   "metadata": {},
   "outputs": [
    {
     "name": "stdout",
     "output_type": "stream",
     "text": [
      "steal the victim’s contact lists to enrich the malware gang’s SMS spam target list 2021-03-05\n",
      "worm-like mechanism inside its code that allows the malware’s operator to collect the victim’s address book 2021-03-05\n",
      "samples are packed with Tencent’s Legu Packer application 2021-03-16\n",
      "( connects to the first one that resolves to an IP address and is not offline NA\n",
      "captured the victim’s credit card information 2021-04-27\n",
      "uses the HTTP Using POST method on port 80 with POST body encrypted 2021-04-27\n",
      "steal all the necessary data to successfully defraud the user 2021-04-29\n",
      "grants itself all the other permissions it needs to conduct malicious activity without the victim’s knowledge and without the victim needing to accept further permission requests 2021-04-29\n",
      "presenting a fake overlay login screen on top of the legitimate app 2021-04-29\n",
      "disguise themselves by using the brand names of package delivery services 2021-05-13\n",
      "register as the default messaging app on the phone 2021-05-13\n",
      "using a custom packer and evasion mechanisms to complicate detection and analysis of the malware 2021-05-13\n",
      "spread most of their malware through sideloading 2021-06-01\n",
      "fake Ad Blocker app that acts as a dropper 2021-06-01\n",
      "ask permission to display over other applications 2021-06-01\n",
      "send out smishing URLs to further infect other mobile phones 2021-06-19\n",
      "uses a Domain Generation Algorithm ( DGA )-an algorithm embedded in the malware 2021-08-17\n",
      "download overlays for installed applications 2021-08-17\n",
      "convinces the target to install a third-party APK 2021-09-14\n",
      "circumventing carrier SMS content filters 2021-09-14\n",
      "spreading just starts with just one innocently looking SMS that a target receives 2021-09-14\n",
      "query the command and control ( CC ) server 2021-09-14\n",
      "keep out security researchers from the botnet 2021-10-01\n",
      "they flip one or more letters in their smishing SMS 2021-10-01\n",
      "sporting a dropper C2 backend to fully match the theme of the dropper app 2021-11-01\n"
     ]
    }
   ],
   "source": [
    "for s in sents:\n",
    "    t = 'NA'\n",
    "    if s in uniq:\n",
    "        t = uniq[s]\n",
    "    print(s, t)"
   ]
  },
  {
   "cell_type": "code",
   "execution_count": 125,
   "id": "9aa49e05",
   "metadata": {},
   "outputs": [],
   "source": [
    "# names = []\n",
    "# dates = []\n",
    "\n",
    "\n",
    "# for x in sents:\n",
    "#     if x in uniq:\n",
    "#         names.append(x)\n",
    "#         dates.append(uniq[x])\n",
    "\n",
    "\n",
    "\n",
    "# dates = [datetime.strptime(d, \"%Y-%m-%d\") for d in dates]\n",
    "\n",
    "# # Choose some nice levels\n",
    "# levels = np.tile([-5, 5, -3, 3, -1, 1],\n",
    "#                  int(np.ceil(len(dates)/6)))[:len(dates)]\n",
    "\n",
    "# # Create figure and plot a stem plot with the date\n",
    "# fig, ax = plt.subplots(figsize=(12, 8), constrained_layout=True)\n",
    "# ax.set(title=\"Attack pattern\")\n",
    "\n",
    "# ax.vlines(dates, 0, levels, color=\"tab:red\")  # The vertical stems.\n",
    "# ax.plot(dates, np.zeros_like(dates), \"-o\",\n",
    "#         color=\"k\", markerfacecolor=\"w\")  # Baseline and markers on it.\n",
    "\n",
    "# # annotate lines\n",
    "# for d, l, r in zip(dates, levels, names):\n",
    "#     ax.annotate(r, xy=(d, l),\n",
    "#                 xytext=(-3, np.sign(l)*3), textcoords=\"offset points\",\n",
    "#                 horizontalalignment=\"right\",\n",
    "#                 verticalalignment=\"bottom\" if l > 0 else \"top\")\n",
    "\n",
    "# # format xaxis with 2 month intervals\n",
    "# ax.xaxis.set_major_locator(mdates.MonthLocator(interval=1))\n",
    "# ax.xaxis.set_major_formatter(mdates.DateFormatter(\"%b %Y\"))\n",
    "# plt.setp(ax.get_xticklabels(), rotation=30, ha=\"right\")\n",
    "\n",
    "# # remove y axis and spines\n",
    "# ax.yaxis.set_visible(False)\n",
    "# ax.spines[[\"left\", \"top\", \"right\"]].set_visible(False)\n",
    "\n",
    "# ax.margins(y=0.1)\n",
    "# plt.show()"
   ]
  },
  {
   "cell_type": "code",
   "execution_count": 126,
   "id": "0c6d8b66",
   "metadata": {},
   "outputs": [],
   "source": [
    "# uniq"
   ]
  },
  {
   "cell_type": "markdown",
   "id": "cfd2f80c",
   "metadata": {},
   "source": [
    "### Attack pattern summary split across two halves"
   ]
  },
  {
   "cell_type": "markdown",
   "id": "b647e64a",
   "metadata": {},
   "source": [
    "### First half: March 2021-June 2021"
   ]
  },
  {
   "cell_type": "code",
   "execution_count": 128,
   "id": "6eed7e81",
   "metadata": {},
   "outputs": [],
   "source": [
    "data = []\n",
    "uniq = {}\n",
    "\n",
    "for t in time_order[:10]:\n",
    "    fname = 'data/' + str(t) + '-coref-resolved.ann'\n",
    "    \n",
    "    with open(fname, 'r', encoding='utf-8') as f:\n",
    "        ann = f.read()\n",
    "    \n",
    "    report_time = times[str(t)]\n",
    "    if ',' in report_time:\n",
    "        report_time = report_time.split(',')[0].split(' ')[0] + report_time.split(',')[1]\n",
    "    \n",
    "    entities = {}\n",
    "    for line in ann.split('\\n'):\n",
    "        if len(line) > 0 and line[0] == 'T':\n",
    "            e_id, desc, e_text = line.split('\\t')\n",
    "            if e_text[-1] == '.':\n",
    "                e_text = e_text[:-1]\n",
    "            cls = desc.split()[0]\n",
    "            if cls == 'AttackPattern' and e_text not in uniq:\n",
    "                data.append([e_text, report_time])\n",
    "                uniq[e_text] = report_time"
   ]
  },
  {
   "cell_type": "code",
   "execution_count": 129,
   "id": "3454bb67",
   "metadata": {},
   "outputs": [
    {
     "name": "stdout",
     "output_type": "stream",
     "text": [
      "steal the victim’s contact lists to enrich the malware gang’s SMS spam target list\n",
      "samples are packed with Tencent’s Legu Packer application\n",
      "( connects to the first one that resolves to an IP address and is not offline\n",
      "sends to a remote command and control server\n",
      "creating a SOCKS proxy for communication\n",
      "uses the HTTP Using POST method on port 80 with POST body encrypted\n",
      "steal credit card numbers, bank account credentials and other private information\n",
      "steal all the necessary data to successfully defraud the user\n",
      "leads the victim to a hacked website or other infection zone\n",
      "grants itself all the other permissions it needs to conduct malicious activity without the victim’s knowledge and without the victim needing to accept further permission requests\n",
      "enables it to hijack incoming SMS messages and forward them to the attacker\n",
      "presenting a fake overlay login screen on top of the legitimate app\n",
      "sends a list of all applications installed on the victim’s device\n",
      "retrieves the matching HTML overlay for each ‘injectable’application from the C2\n",
      "set as the default SMS and notification tool\n",
      "prompts the user to manually grant two powerful system permissions\n",
      "steal credentials from banking and cryptocurrency apps on infected devices\n",
      "disguise themselves by using the brand names of package delivery services\n",
      "send a list of installed applications that the C2 server matches to a list of package names targeted by the cybercriminals\n",
      "retrieves device information such as Device ID and manufacturer details\n",
      "submitted to the botnet during communication with the C2 server\n",
      "using a custom packer and evasion mechanisms to complicate detection and analysis of the malware\n",
      "fake Ad Blocker app that acts as a dropper\n",
      "ask permission to display over other applications\n",
      "sends it back to the malware on infected phones\n",
      "grant itself additional permissions automatically\n",
      "prevent the user from uninstalling the malware\n",
      "trick the user into enter credentials or other sensitive informatio\n"
     ]
    }
   ],
   "source": [
    "body = '. '.join([x[0] for x in data])\n",
    "result = model(body)\n",
    "full = ''.join(result)\n",
    "sents = sent_tokenize(full)\n",
    "sents = [x[:-1] for x in sents]\n",
    "for x in sents:\n",
    "    print(x)"
   ]
  },
  {
   "cell_type": "markdown",
   "id": "24d211b1",
   "metadata": {},
   "source": [
    "### 2nd half: Aug 2021-Feb 2022"
   ]
  },
  {
   "cell_type": "code",
   "execution_count": 130,
   "id": "c833e483",
   "metadata": {},
   "outputs": [],
   "source": [
    "data = []\n",
    "uniq = {}\n",
    "\n",
    "for t in time_order[10:]:\n",
    "    fname = 'data/' + str(t) + '-coref-resolved.ann'\n",
    "    \n",
    "    with open(fname, 'r', encoding='utf-8') as f:\n",
    "        ann = f.read()\n",
    "    \n",
    "    report_time = times[str(t)]\n",
    "    if ',' in report_time:\n",
    "        report_time = report_time.split(',')[0].split(' ')[0] + report_time.split(',')[1]\n",
    "    \n",
    "    entities = {}\n",
    "    for line in ann.split('\\n'):\n",
    "        if len(line) > 0 and line[0] == 'T':\n",
    "            e_id, desc, e_text = line.split('\\t')\n",
    "            if e_text[-1] == '.':\n",
    "                e_text = e_text[:-1]\n",
    "            cls = desc.split()[0]\n",
    "            if cls == 'AttackPattern' and e_text not in uniq:\n",
    "                data.append([e_text, report_time])\n",
    "                uniq[e_text] = report_time"
   ]
  },
  {
   "cell_type": "code",
   "execution_count": 131,
   "id": "bef41549",
   "metadata": {},
   "outputs": [
    {
     "name": "stdout",
     "output_type": "stream",
     "text": [
      "containing links to so-called “ lure ” pages\n",
      "granting additional permissions to itself\n",
      "circumventing carrier SMS content filters\n",
      "increase the spreading probability as well as keep out security\n",
      "spreading just starts with just one innocently looking SMS that a target receives\n",
      "The bot queries the rate at which it should send SMS with the command SMS _ RATE\n",
      "value depends on the current spreading status of the botnet in a specific country\n",
      "distributed APKs had a Voicemail theme, which was in line with the smishing SMS the victims received\n",
      "Hashes of the packed APKs change every hour\n",
      "query the command and control ( CC ) server\n",
      "keep out security researchers from the botnet\n",
      "text notifying the target that they missed a call\n",
      "access to hundreds of hacked websites that they utilize as redirects\n",
      "they flip one or more letters in their smishing SMS\n",
      "lure is generated per target as it shows the real phone number\n",
      "query the command and control ( CC ) server for new smishing SMS tasks\n",
      "manually activate the installation of the banking trojan\n",
      "payload is posed as a new package of workout exercises\n",
      "installed on the device of the unsuspecting victim\n",
      "payload is downloaded from the C2 server\n"
     ]
    }
   ],
   "source": [
    "body = '. '.join([x[0] for x in data])\n",
    "result = model(body)\n",
    "full = ''.join(result)\n",
    "sents = sent_tokenize(full)\n",
    "sents = [x[:-1] for x in sents]\n",
    "for x in sents:\n",
    "    print(x)"
   ]
  },
  {
   "cell_type": "code",
   "execution_count": null,
   "id": "4dddb38c",
   "metadata": {},
   "outputs": [],
   "source": []
  }
 ],
 "metadata": {
  "kernelspec": {
   "display_name": "Python 3 (ipykernel)",
   "language": "python",
   "name": "python3"
  },
  "language_info": {
   "codemirror_mode": {
    "name": "ipython",
    "version": 3
   },
   "file_extension": ".py",
   "mimetype": "text/x-python",
   "name": "python",
   "nbconvert_exporter": "python",
   "pygments_lexer": "ipython3",
   "version": "3.8.6"
  }
 },
 "nbformat": 4,
 "nbformat_minor": 5
}
